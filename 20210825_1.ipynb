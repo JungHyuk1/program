{
  "nbformat": 4,
  "nbformat_minor": 0,
  "metadata": {
    "colab": {
      "name": "20210825-1.ipynb",
      "provenance": [],
      "authorship_tag": "ABX9TyMFLuTONizcDk5UP1YbUjEd",
      "include_colab_link": true
    },
    "kernelspec": {
      "name": "python3",
      "display_name": "Python 3"
    },
    "language_info": {
      "name": "python"
    }
  },
  "cells": [
    {
      "cell_type": "markdown",
      "metadata": {
        "id": "view-in-github",
        "colab_type": "text"
      },
      "source": [
        "<a href=\"https://colab.research.google.com/github/JungHyuk1/program/blob/main/20210825_1.ipynb\" target=\"_parent\"><img src=\"https://colab.research.google.com/assets/colab-badge.svg\" alt=\"Open In Colab\"/></a>"
      ]
    },
    {
      "cell_type": "code",
      "metadata": {
        "colab": {
          "base_uri": "https://localhost:8080/"
        },
        "id": "HO1Xv9q9lda9",
        "outputId": "6c59b2bd-d1b9-4528-8233-75611be956f9"
      },
      "source": [
        "print('hi')"
      ],
      "execution_count": null,
      "outputs": [
        {
          "output_type": "stream",
          "text": [
            "hi\n"
          ],
          "name": "stdout"
        }
      ]
    },
    {
      "cell_type": "code",
      "metadata": {
        "colab": {
          "base_uri": "https://localhost:8080/"
        },
        "id": "_1N1X9LXmdm4",
        "outputId": "ac14991d-e3bc-47b6-ed01-fe764e3b0f8b"
      },
      "source": [
        "print('1')\n",
        "print('2')\n",
        "print('3')\n",
        "print('4')\n",
        "print('5')"
      ],
      "execution_count": null,
      "outputs": [
        {
          "output_type": "stream",
          "text": [
            "1\n",
            "2\n",
            "3\n",
            "4\n",
            "5\n"
          ],
          "name": "stdout"
        }
      ]
    },
    {
      "cell_type": "code",
      "metadata": {
        "colab": {
          "base_uri": "https://localhost:8080/"
        },
        "id": "QCUADskqntzQ",
        "outputId": "46b8c829-fcd4-46a0-da48-db7f8dc2f057"
      },
      "source": [
        "print('no sana no life')\n",
        "print('no sana no life')\n",
        "print('no sana no life')"
      ],
      "execution_count": null,
      "outputs": [
        {
          "output_type": "stream",
          "text": [
            "no sana no life\n",
            "no sana no life\n",
            "no sana no life\n"
          ],
          "name": "stdout"
        }
      ]
    },
    {
      "cell_type": "code",
      "metadata": {
        "colab": {
          "base_uri": "https://localhost:8080/"
        },
        "id": "cmqjXFNSoE8X",
        "outputId": "4ccd2f9f-65a3-4b76-88f4-f78119c8f029"
      },
      "source": [
        "for i in range(10):\n",
        "  print('no sana no life')"
      ],
      "execution_count": null,
      "outputs": [
        {
          "output_type": "stream",
          "text": [
            "no sana no life\n",
            "no sana no life\n",
            "no sana no life\n",
            "no sana no life\n",
            "no sana no life\n",
            "no sana no life\n",
            "no sana no life\n",
            "no sana no life\n",
            "no sana no life\n",
            "no sana no life\n"
          ],
          "name": "stdout"
        }
      ]
    },
    {
      "cell_type": "code",
      "metadata": {
        "colab": {
          "base_uri": "https://localhost:8080/"
        },
        "id": "ARKxJYKMotpf",
        "outputId": "07344a9f-eae2-4540-8ce3-79f288670bac"
      },
      "source": [
        "for _ in range(5):\n",
        "  print('nayeon is sexy')"
      ],
      "execution_count": null,
      "outputs": [
        {
          "output_type": "stream",
          "text": [
            "nayeon is sexy\n",
            "nayeon is sexy\n",
            "nayeon is sexy\n",
            "nayeon is sexy\n",
            "nayeon is sexy\n"
          ],
          "name": "stdout"
        }
      ]
    },
    {
      "cell_type": "code",
      "metadata": {
        "colab": {
          "base_uri": "https://localhost:8080/"
        },
        "id": "w69_4Fx0o8MA",
        "outputId": "d2340ea5-30cc-4ade-a29d-deabee1214ce"
      },
      "source": [
        "for _ in range(50):\n",
        "  print('Jung Gunwoo')"
      ],
      "execution_count": null,
      "outputs": [
        {
          "output_type": "stream",
          "text": [
            "Jung Gunwoo\n",
            "Jung Gunwoo\n",
            "Jung Gunwoo\n",
            "Jung Gunwoo\n",
            "Jung Gunwoo\n",
            "Jung Gunwoo\n",
            "Jung Gunwoo\n",
            "Jung Gunwoo\n",
            "Jung Gunwoo\n",
            "Jung Gunwoo\n",
            "Jung Gunwoo\n",
            "Jung Gunwoo\n",
            "Jung Gunwoo\n",
            "Jung Gunwoo\n",
            "Jung Gunwoo\n",
            "Jung Gunwoo\n",
            "Jung Gunwoo\n",
            "Jung Gunwoo\n",
            "Jung Gunwoo\n",
            "Jung Gunwoo\n",
            "Jung Gunwoo\n",
            "Jung Gunwoo\n",
            "Jung Gunwoo\n",
            "Jung Gunwoo\n",
            "Jung Gunwoo\n",
            "Jung Gunwoo\n",
            "Jung Gunwoo\n",
            "Jung Gunwoo\n",
            "Jung Gunwoo\n",
            "Jung Gunwoo\n",
            "Jung Gunwoo\n",
            "Jung Gunwoo\n",
            "Jung Gunwoo\n",
            "Jung Gunwoo\n",
            "Jung Gunwoo\n",
            "Jung Gunwoo\n",
            "Jung Gunwoo\n",
            "Jung Gunwoo\n",
            "Jung Gunwoo\n",
            "Jung Gunwoo\n",
            "Jung Gunwoo\n",
            "Jung Gunwoo\n",
            "Jung Gunwoo\n",
            "Jung Gunwoo\n",
            "Jung Gunwoo\n",
            "Jung Gunwoo\n",
            "Jung Gunwoo\n",
            "Jung Gunwoo\n",
            "Jung Gunwoo\n",
            "Jung Gunwoo\n"
          ],
          "name": "stdout"
        }
      ]
    },
    {
      "cell_type": "code",
      "metadata": {
        "colab": {
          "base_uri": "https://localhost:8080/"
        },
        "id": "wCVQNfoPw49l",
        "outputId": "03157e12-c781-4a4b-ba19-129533f8f6c8"
      },
      "source": [
        "for _ in range(5):\n",
        "  print('aaa')\n",
        "  print('bbb')"
      ],
      "execution_count": null,
      "outputs": [
        {
          "output_type": "stream",
          "text": [
            "aaa\n",
            "bbb\n",
            "aaa\n",
            "bbb\n",
            "aaa\n",
            "bbb\n",
            "aaa\n",
            "bbb\n",
            "aaa\n",
            "bbb\n"
          ],
          "name": "stdout"
        }
      ]
    },
    {
      "cell_type": "code",
      "metadata": {
        "colab": {
          "base_uri": "https://localhost:8080/"
        },
        "id": "8ysvJBBhxnN8",
        "outputId": "363ab779-850d-4963-8a4c-294123f493f2"
      },
      "source": [
        "for i in range(0,10):\n",
        " print(i)"
      ],
      "execution_count": null,
      "outputs": [
        {
          "output_type": "stream",
          "text": [
            "0\n",
            "1\n",
            "2\n",
            "3\n",
            "4\n",
            "5\n",
            "6\n",
            "7\n",
            "8\n",
            "9\n"
          ],
          "name": "stdout"
        }
      ]
    },
    {
      "cell_type": "code",
      "metadata": {
        "colab": {
          "base_uri": "https://localhost:8080/"
        },
        "id": "kDn6EJ_y0e6i",
        "outputId": "4e83be60-6b83-4f11-847f-d63d0b0bce22"
      },
      "source": [
        "for i in range(0,20,2):\n",
        "  print(i)"
      ],
      "execution_count": null,
      "outputs": [
        {
          "output_type": "stream",
          "text": [
            "0\n",
            "2\n",
            "4\n",
            "6\n",
            "8\n",
            "10\n",
            "12\n",
            "14\n",
            "16\n",
            "18\n"
          ],
          "name": "stdout"
        }
      ]
    },
    {
      "cell_type": "code",
      "metadata": {
        "colab": {
          "base_uri": "https://localhost:8080/"
        },
        "id": "eYT0_4h21FJ7",
        "outputId": "47ebbb28-1bce-4ed2-bdc4-2b217ee94c43"
      },
      "source": [
        "for i in range(48,104,3):\n",
        "  print(i)"
      ],
      "execution_count": null,
      "outputs": [
        {
          "output_type": "stream",
          "text": [
            "48\n",
            "51\n",
            "54\n",
            "57\n",
            "60\n",
            "63\n",
            "66\n",
            "69\n",
            "72\n",
            "75\n",
            "78\n",
            "81\n",
            "84\n",
            "87\n",
            "90\n",
            "93\n",
            "96\n",
            "99\n",
            "102\n"
          ],
          "name": "stdout"
        }
      ]
    },
    {
      "cell_type": "code",
      "metadata": {
        "colab": {
          "base_uri": "https://localhost:8080/"
        },
        "id": "iIscj2B11e0a",
        "outputId": "3939c944-836b-484e-a4a2-0fac7570ceb6"
      },
      "source": [
        "for i in range(50,100):\n",
        "  print(i)"
      ],
      "execution_count": null,
      "outputs": [
        {
          "output_type": "stream",
          "text": [
            "50\n",
            "51\n",
            "52\n",
            "53\n",
            "54\n",
            "55\n",
            "56\n",
            "57\n",
            "58\n",
            "59\n",
            "60\n",
            "61\n",
            "62\n",
            "63\n",
            "64\n",
            "65\n",
            "66\n",
            "67\n",
            "68\n",
            "69\n",
            "70\n",
            "71\n",
            "72\n",
            "73\n",
            "74\n",
            "75\n",
            "76\n",
            "77\n",
            "78\n",
            "79\n",
            "80\n",
            "81\n",
            "82\n",
            "83\n",
            "84\n",
            "85\n",
            "86\n",
            "87\n",
            "88\n",
            "89\n",
            "90\n",
            "91\n",
            "92\n",
            "93\n",
            "94\n",
            "95\n",
            "96\n",
            "97\n",
            "98\n",
            "99\n"
          ],
          "name": "stdout"
        }
      ]
    },
    {
      "cell_type": "code",
      "metadata": {
        "colab": {
          "base_uri": "https://localhost:8080/"
        },
        "id": "sso9GKQr1z6S",
        "outputId": "da0bbe92-936f-479f-8be6-0997b5ee3677"
      },
      "source": [
        "for _ in range(10):\n",
        "  print('NSNL',end=' ')"
      ],
      "execution_count": null,
      "outputs": [
        {
          "output_type": "stream",
          "text": [
            "NSNL NSNL NSNL NSNL NSNL NSNL NSNL NSNL NSNL NSNL "
          ],
          "name": "stdout"
        }
      ]
    },
    {
      "cell_type": "code",
      "metadata": {
        "colab": {
          "base_uri": "https://localhost:8080/"
        },
        "id": "uEH3oFDc2EXq",
        "outputId": "dd3ca1fc-7d6e-4f09-aa41-6c3d77b2f295"
      },
      "source": [
        "for _ in range(100):\n",
        "  print('정건우 바보',end =' ')"
      ],
      "execution_count": null,
      "outputs": [
        {
          "output_type": "stream",
          "text": [
            "정건우 바보 정건우 바보 정건우 바보 정건우 바보 정건우 바보 정건우 바보 정건우 바보 정건우 바보 정건우 바보 정건우 바보 정건우 바보 정건우 바보 정건우 바보 정건우 바보 정건우 바보 정건우 바보 정건우 바보 정건우 바보 정건우 바보 정건우 바보 정건우 바보 정건우 바보 정건우 바보 정건우 바보 정건우 바보 정건우 바보 정건우 바보 정건우 바보 정건우 바보 정건우 바보 정건우 바보 정건우 바보 정건우 바보 정건우 바보 정건우 바보 정건우 바보 정건우 바보 정건우 바보 정건우 바보 정건우 바보 정건우 바보 정건우 바보 정건우 바보 정건우 바보 정건우 바보 정건우 바보 정건우 바보 정건우 바보 정건우 바보 정건우 바보 정건우 바보 정건우 바보 정건우 바보 정건우 바보 정건우 바보 정건우 바보 정건우 바보 정건우 바보 정건우 바보 정건우 바보 정건우 바보 정건우 바보 정건우 바보 정건우 바보 정건우 바보 정건우 바보 정건우 바보 정건우 바보 정건우 바보 정건우 바보 정건우 바보 정건우 바보 정건우 바보 정건우 바보 정건우 바보 정건우 바보 정건우 바보 정건우 바보 정건우 바보 정건우 바보 정건우 바보 정건우 바보 정건우 바보 정건우 바보 정건우 바보 정건우 바보 정건우 바보 정건우 바보 정건우 바보 정건우 바보 정건우 바보 정건우 바보 정건우 바보 정건우 바보 정건우 바보 정건우 바보 정건우 바보 정건우 바보 정건우 바보 정건우 바보 "
          ],
          "name": "stdout"
        }
      ]
    },
    {
      "cell_type": "code",
      "metadata": {
        "colab": {
          "base_uri": "https://localhost:8080/"
        },
        "id": "xHHz4loK8qGX",
        "outputId": "bcbf8735-d48b-4188-949f-ffd416e17cad"
      },
      "source": [
        "a=1\n",
        "\n",
        "if a>10:\n",
        "  print(\"wow\")\n",
        "elif a<10:\n",
        "  print(\"lol\")"
      ],
      "execution_count": null,
      "outputs": [
        {
          "output_type": "stream",
          "text": [
            "lol\n"
          ],
          "name": "stdout"
        }
      ]
    },
    {
      "cell_type": "code",
      "metadata": {
        "colab": {
          "base_uri": "https://localhost:8080/"
        },
        "id": "HmhVsZwD-zb4",
        "outputId": "9a4b1c46-c636-4d73-a351-7436c0ed1fb7"
      },
      "source": [
        "a=120\n",
        "b=32\n",
        "print(a%b)"
      ],
      "execution_count": null,
      "outputs": [
        {
          "output_type": "stream",
          "text": [
            "24\n"
          ],
          "name": "stdout"
        }
      ]
    },
    {
      "cell_type": "code",
      "metadata": {
        "colab": {
          "base_uri": "https://localhost:8080/"
        },
        "id": "sJaaWRqUAZE1",
        "outputId": "8e7d221a-31bb-42c2-e453-722ce3a8a210"
      },
      "source": [
        "a= 32\n",
        "if a%2==0:\n",
        "  print(\"짝수\")\n",
        "elif a%2==1:\n",
        "  print(\"홀수\")"
      ],
      "execution_count": null,
      "outputs": [
        {
          "output_type": "stream",
          "text": [
            "짝수\n"
          ],
          "name": "stdout"
        }
      ]
    },
    {
      "cell_type": "code",
      "metadata": {
        "colab": {
          "base_uri": "https://localhost:8080/"
        },
        "id": "zejwqlgxA5zO",
        "outputId": "a03a9a15-0f0d-446c-b1cd-2a99bcaeea58"
      },
      "source": [
        "for i in range(1,100):\n",
        "  if i%5==0:\n",
        "    print(i,end=' ')"
      ],
      "execution_count": null,
      "outputs": [
        {
          "output_type": "stream",
          "text": [
            "5 10 15 20 25 30 35 40 45 50 55 60 65 70 75 80 85 90 95 "
          ],
          "name": "stdout"
        }
      ]
    },
    {
      "cell_type": "code",
      "metadata": {
        "colab": {
          "base_uri": "https://localhost:8080/"
        },
        "id": "XSflM_1dEVkl",
        "outputId": "41db8cab-e6e9-410e-f390-afd13d8d7b48"
      },
      "source": [
        "for i in range(100,1000):\n",
        "  if i%10==0:\n",
        "    print(i,end=' ')"
      ],
      "execution_count": null,
      "outputs": [
        {
          "output_type": "stream",
          "text": [
            "100 110 120 130 140 150 160 170 180 190 200 210 220 230 240 250 260 270 280 290 300 310 320 330 340 350 360 370 380 390 400 410 420 430 440 450 460 470 480 490 500 510 520 530 540 550 560 570 580 590 600 610 620 630 640 650 660 670 680 690 700 710 720 730 740 750 760 770 780 790 800 810 820 830 840 850 860 870 880 890 900 910 920 930 940 950 960 970 980 990 "
          ],
          "name": "stdout"
        }
      ]
    },
    {
      "cell_type": "code",
      "metadata": {
        "id": "F4RoqBfIE2Ie"
      },
      "source": [
        "for i in range(100,1000):\n",
        "  if i%9=="
      ],
      "execution_count": null,
      "outputs": []
    }
  ]
}