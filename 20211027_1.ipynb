{
  "nbformat": 4,
  "nbformat_minor": 0,
  "metadata": {
    "colab": {
      "name": "20211027-1.ipynb",
      "provenance": [],
      "include_colab_link": true
    },
    "kernelspec": {
      "name": "python3",
      "display_name": "Python 3"
    },
    "language_info": {
      "name": "python"
    }
  },
  "cells": [
    {
      "cell_type": "markdown",
      "metadata": {
        "id": "view-in-github",
        "colab_type": "text"
      },
      "source": [
        "<a href=\"https://colab.research.google.com/github/JungHyuk1/program/blob/main/20211027_1.ipynb\" target=\"_parent\"><img src=\"https://colab.research.google.com/assets/colab-badge.svg\" alt=\"Open In Colab\"/></a>"
      ]
    },
    {
      "cell_type": "code",
      "metadata": {
        "colab": {
          "base_uri": "https://localhost:8080/"
        },
        "id": "DGC9qla9cRFH",
        "outputId": "a2c0ef7d-2561-4c27-8c8c-a6749e75786a"
      },
      "source": [
        "num = int(input(\"값을 입력하세영:\"))\n",
        "\n",
        "for i in range(1,num+1):\n",
        "  if num%i == 0:\n",
        "    print(i, end=' ')\n",
        "count = 0\n",
        "for i in range(1,num+1):\n",
        "  if num%i == 0:\n",
        "    count = count + 1\n",
        "print('입력하신{0}의 약수의 개수는 {1}개 입니당.'.format(num,count))"
      ],
      "execution_count": null,
      "outputs": [
        {
          "output_type": "stream",
          "name": "stdout",
          "text": [
            "값을 입력하세영:12\n",
            "1 2 3 4 6 12 입력하신12의 약수의 개수는 6개 입니당.\n"
          ]
        }
      ]
    }
  ]
}