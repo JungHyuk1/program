{
  "nbformat": 4,
  "nbformat_minor": 0,
  "metadata": {
    "colab": {
      "name": "202111018-2.ipynb",
      "provenance": [],
      "authorship_tag": "ABX9TyMs+sZtHp0UgFA/u7FgJSf1",
      "include_colab_link": true
    },
    "kernelspec": {
      "name": "python3",
      "display_name": "Python 3"
    },
    "language_info": {
      "name": "python"
    }
  },
  "cells": [
    {
      "cell_type": "markdown",
      "metadata": {
        "id": "view-in-github",
        "colab_type": "text"
      },
      "source": [
        "<a href=\"https://colab.research.google.com/github/JungHyuk1/program/blob/main/202111018_2.ipynb\" target=\"_parent\"><img src=\"https://colab.research.google.com/assets/colab-badge.svg\" alt=\"Open In Colab\"/></a>"
      ]
    },
    {
      "cell_type": "code",
      "metadata": {
        "id": "5YFj_KXp6zck"
      },
      "source": [
        "def solution(height,weight):\n",
        "    bmi = weight / (height * height * 0.0001)\n",
        "    if bmi<18:\n",
        "        return '저체중'\n",
        "    elif 25>bmi>18:\n",
        "        return '정상'\n",
        "    elif 27<bmi>25:\n",
        "        return '과체중'\n",
        "    elif bmi>27:\n",
        "        return '비만'"
      ],
      "execution_count": null,
      "outputs": []
    },
    {
      "cell_type": "code",
      "metadata": {
        "colab": {
          "base_uri": "https://localhost:8080/"
        },
        "id": "3eaR1tzl9vMe",
        "outputId": "f606d9d4-7cfb-4214-cffb-0c6d34aa6b85"
      },
      "source": [
        "print(solution(185,75))"
      ],
      "execution_count": null,
      "outputs": [
        {
          "output_type": "stream",
          "name": "stdout",
          "text": [
            "정상\n"
          ]
        }
      ]
    }
  ]
}