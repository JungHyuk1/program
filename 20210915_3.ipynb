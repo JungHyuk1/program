{
  "nbformat": 4,
  "nbformat_minor": 0,
  "metadata": {
    "colab": {
      "name": "20210915-3.ipynb",
      "provenance": [],
      "collapsed_sections": [],
      "authorship_tag": "ABX9TyPP2tD2z24EiZSZ+7zIwlkL",
      "include_colab_link": true
    },
    "kernelspec": {
      "name": "python3",
      "display_name": "Python 3"
    },
    "language_info": {
      "name": "python"
    }
  },
  "cells": [
    {
      "cell_type": "markdown",
      "metadata": {
        "id": "view-in-github",
        "colab_type": "text"
      },
      "source": [
        "<a href=\"https://colab.research.google.com/github/JungHyuk1/program/blob/main/20210915_3.ipynb\" target=\"_parent\"><img src=\"https://colab.research.google.com/assets/colab-badge.svg\" alt=\"Open In Colab\"/></a>"
      ]
    },
    {
      "cell_type": "code",
      "metadata": {
        "id": "elBT3Q8rL_Vq"
      },
      "source": [
        "def addcalc(x,y):\n",
        "  return x+y\n",
        "\n",
        "def minuscalc(x,y):\n",
        "  return x-y\n",
        "\n",
        "def mulcalc(x,y):\n",
        "  return x*y"
      ],
      "execution_count": null,
      "outputs": []
    },
    {
      "cell_type": "code",
      "metadata": {
        "colab": {
          "base_uri": "https://localhost:8080/"
        },
        "id": "oXVSMGMeMRBm",
        "outputId": "0d070b74-0832-496b-d9b7-e1615c858e8f"
      },
      "source": [
        "#result = addcalc(2,4)\n",
        "#print(result)\n",
        "\n",
        "a,b = input(\"더하기계산기:\").split('+')\n",
        "addcalc(int(a),int(b))\n",
        "print(result)"
      ],
      "execution_count": null,
      "outputs": [
        {
          "output_type": "stream",
          "name": "stdout",
          "text": [
            "더하기계산기:2+3\n",
            "6\n"
          ]
        }
      ]
    },
    {
      "cell_type": "code",
      "metadata": {
        "colab": {
          "base_uri": "https://localhost:8080/"
        },
        "id": "EdAm0I_0Mbju",
        "outputId": "d77e0bed-0709-487c-bf7e-a5ec7cd88dba"
      },
      "source": [
        "a,b = input(\"빼기계산기\").split('-')\n",
        "result = minuscalc(int(a),int(b))\n",
        "print(result)"
      ],
      "execution_count": null,
      "outputs": [
        {
          "output_type": "stream",
          "name": "stdout",
          "text": [
            "빼기계산기5-2\n",
            "3\n"
          ]
        }
      ]
    },
    {
      "cell_type": "code",
      "metadata": {
        "colab": {
          "base_uri": "https://localhost:8080/"
        },
        "id": "NsBpm2goPFuW",
        "outputId": "4944033a-a53d-4f85-adf5-7805cfdbe4cd"
      },
      "source": [
        "a,b = input(\"곱하기 계산기\").split(\"*\")\n",
        "result = mulcalc(int(a),int(b))\n",
        "print(result) "
      ],
      "execution_count": null,
      "outputs": [
        {
          "output_type": "stream",
          "name": "stdout",
          "text": [
            "곱하기 계산기8*2\n",
            "16\n"
          ]
        }
      ]
    }
  ]
}