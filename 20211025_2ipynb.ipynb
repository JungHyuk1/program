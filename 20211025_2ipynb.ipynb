{
  "nbformat": 4,
  "nbformat_minor": 0,
  "metadata": {
    "colab": {
      "name": "20211025.-2ipynb",
      "provenance": [],
      "authorship_tag": "ABX9TyO9cUepCNcYv2VgF21fqKz0",
      "include_colab_link": true
    },
    "kernelspec": {
      "name": "python3",
      "display_name": "Python 3"
    },
    "language_info": {
      "name": "python"
    }
  },
  "cells": [
    {
      "cell_type": "markdown",
      "metadata": {
        "id": "view-in-github",
        "colab_type": "text"
      },
      "source": [
        "<a href=\"https://colab.research.google.com/github/JungHyuk1/program/blob/main/20211025_2ipynb.ipynb\" target=\"_parent\"><img src=\"https://colab.research.google.com/assets/colab-badge.svg\" alt=\"Open In Colab\"/></a>"
      ]
    },
    {
      "cell_type": "code",
      "metadata": {
        "id": "qrJLB1Gu407K"
      },
      "source": [
        "def solution(word):\n",
        "  myword = list(word)\n",
        "  for i in range(0,len(myword)//2):\n",
        "      if myword[i] == myword[len(myword)-i-1]:\n",
        "          continue\n",
        "      else:\n",
        "         return 'X'\n",
        "  return '0'"
      ],
      "execution_count": null,
      "outputs": []
    },
    {
      "cell_type": "code",
      "metadata": {
        "colab": {
          "base_uri": "https://localhost:8080/"
        },
        "id": "7irP0h3v9okd",
        "outputId": "52edf664-bfd6-46be-a3ad-005650fbca01"
      },
      "source": [
        "print(solution('banana'))"
      ],
      "execution_count": null,
      "outputs": [
        {
          "output_type": "stream",
          "name": "stdout",
          "text": [
            "X\n"
          ]
        }
      ]
    }
  ]
}