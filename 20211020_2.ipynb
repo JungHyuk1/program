{
  "nbformat": 4,
  "nbformat_minor": 0,
  "metadata": {
    "colab": {
      "name": "20211020-2.ipynb",
      "provenance": [],
      "authorship_tag": "ABX9TyNx2fkVaPetVH7UryXAYchB",
      "include_colab_link": true
    },
    "kernelspec": {
      "name": "python3",
      "display_name": "Python 3"
    },
    "language_info": {
      "name": "python"
    }
  },
  "cells": [
    {
      "cell_type": "markdown",
      "metadata": {
        "id": "view-in-github",
        "colab_type": "text"
      },
      "source": [
        "<a href=\"https://colab.research.google.com/github/JungHyuk1/program/blob/main/20211020_2.ipynb\" target=\"_parent\"><img src=\"https://colab.research.google.com/assets/colab-badge.svg\" alt=\"Open In Colab\"/></a>"
      ]
    },
    {
      "cell_type": "code",
      "metadata": {
        "id": "lhiuLK8eIbZL"
      },
      "source": [
        "def solution(word):\n",
        "    score = 0\n",
        "    for a in word:\n",
        "        if a == 'A':\n",
        "            score = score + 1\n",
        "        elif a == 'a':\n",
        "            score = score + 1\n",
        "        elif a == 'E':\n",
        "            score = score + 1\n",
        "        elif a == 'e':\n",
        "            score = score + 1\n",
        "        elif a == 'I':\n",
        "            score = score + 1\n",
        "        elif a == 'i':\n",
        "            score = score + 1\n",
        "        elif a == 'O':\n",
        "            score = score + 1\n",
        "        elif a == 'o':\n",
        "            score = score + 1\n",
        "        elif a == 'U':\n",
        "            score = score + 1\n",
        "        elif a == 'u':\n",
        "            score = score + 1\n",
        "    return score"
      ],
      "execution_count": null,
      "outputs": []
    },
    {
      "cell_type": "code",
      "metadata": {
        "id": "W5rSnbS6IoM5",
        "colab": {
          "base_uri": "https://localhost:8080/"
        },
        "outputId": "628ed7a3-a6fe-4249-c47c-cf7ba55d722e"
      },
      "source": [
        "print(solution('i love you'))"
      ],
      "execution_count": null,
      "outputs": [
        {
          "output_type": "stream",
          "name": "stdout",
          "text": [
            "5\n"
          ]
        }
      ]
    }
  ]
}