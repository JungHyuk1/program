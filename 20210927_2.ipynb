{
  "nbformat": 4,
  "nbformat_minor": 0,
  "metadata": {
    "colab": {
      "name": "20210927-2.ipynb",
      "provenance": [],
      "collapsed_sections": [],
      "authorship_tag": "ABX9TyN+dzTwN81ekl6Mc4pR+x27",
      "include_colab_link": true
    },
    "kernelspec": {
      "name": "python3",
      "display_name": "Python 3"
    },
    "language_info": {
      "name": "python"
    }
  },
  "cells": [
    {
      "cell_type": "markdown",
      "metadata": {
        "id": "view-in-github",
        "colab_type": "text"
      },
      "source": [
        "<a href=\"https://colab.research.google.com/github/JungHyuk1/program/blob/main/20210927_2.ipynb\" target=\"_parent\"><img src=\"https://colab.research.google.com/assets/colab-badge.svg\" alt=\"Open In Colab\"/></a>"
      ]
    },
    {
      "cell_type": "code",
      "metadata": {
        "colab": {
          "base_uri": "https://localhost:8080/"
        },
        "id": "zeaZCa2c9BsL",
        "outputId": "f60f9f2f-b2d2-4645-b95c-9dfd4a2af9da"
      },
      "source": [
        "for i in range(2,101):\n",
        "  count=0\n",
        "  for j in range(1,i+1):\n",
        "      if i%j == 0:\n",
        "          count = count + 1\n",
        "  if count == 2:\n",
        "         print(i, end=' ')"
      ],
      "execution_count": null,
      "outputs": [
        {
          "output_type": "stream",
          "name": "stdout",
          "text": [
            "2 3 5 7 11 13 17 19 23 29 31 37 41 43 47 53 59 61 67 71 73 79 83 89 97 "
          ]
        }
      ]
    },
    {
      "cell_type": "code",
      "metadata": {
        "colab": {
          "base_uri": "https://localhost:8080/"
        },
        "id": "h6SBngMwAlFZ",
        "outputId": "08890804-5bfc-4993-9b91-4736780b44b6"
      },
      "source": [
        "primecount = 0\n",
        "for i in range(2,101):\n",
        "  count=0\n",
        "  for j in range(1,i+1):\n",
        "      if i%j == 0:\n",
        "          count = count + 1\n",
        "  if count == 2:\n",
        "         primecount = primecount + 1\n",
        "\n",
        "print(primecount)"
      ],
      "execution_count": null,
      "outputs": [
        {
          "output_type": "stream",
          "name": "stdout",
          "text": [
            "25\n"
          ]
        }
      ]
    },
    {
      "cell_type": "code",
      "metadata": {
        "id": "7DI95Bm7DZ2_"
      },
      "source": [
        ""
      ],
      "execution_count": null,
      "outputs": []
    }
  ]
}