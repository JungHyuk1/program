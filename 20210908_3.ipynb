{
  "nbformat": 4,
  "nbformat_minor": 0,
  "metadata": {
    "colab": {
      "name": "20210908-3.ipynb",
      "provenance": [],
      "authorship_tag": "ABX9TyOt91uj86XNcOuVR+4W3VVe",
      "include_colab_link": true
    },
    "kernelspec": {
      "name": "python3",
      "display_name": "Python 3"
    },
    "language_info": {
      "name": "python"
    }
  },
  "cells": [
    {
      "cell_type": "markdown",
      "metadata": {
        "id": "view-in-github",
        "colab_type": "text"
      },
      "source": [
        "<a href=\"https://colab.research.google.com/github/JungHyuk1/program/blob/main/20210908_3.ipynb\" target=\"_parent\"><img src=\"https://colab.research.google.com/assets/colab-badge.svg\" alt=\"Open In Colab\"/></a>"
      ]
    },
    {
      "cell_type": "code",
      "metadata": {
        "colab": {
          "base_uri": "https://localhost:8080/"
        },
        "id": "0Gig5qhcFwbZ",
        "outputId": "d29afab5-158a-412e-bfbc-036639dfe239"
      },
      "source": [
        "print('***')"
      ],
      "execution_count": null,
      "outputs": [
        {
          "output_type": "stream",
          "name": "stdout",
          "text": [
            "***\n"
          ]
        }
      ]
    },
    {
      "cell_type": "code",
      "metadata": {
        "colab": {
          "base_uri": "https://localhost:8080/"
        },
        "id": "HIcG_p12F3cN",
        "outputId": "1c244692-1ab6-46c4-a2b7-1b049b17cadd"
      },
      "source": [
        "print('**********************')\n",
        "print('*                    *')\n",
        "print('*     안녕하세용     *')\n",
        "print('*                    *')\n",
        "print('**********************')"
      ],
      "execution_count": null,
      "outputs": [
        {
          "output_type": "stream",
          "name": "stdout",
          "text": [
            "**********************\n",
            "*                    *\n",
            "*     안녕하세용     *\n",
            "*                    *\n",
            "**********************\n"
          ]
        }
      ]
    },
    {
      "cell_type": "code",
      "metadata": {
        "colab": {
          "base_uri": "https://localhost:8080/"
        },
        "id": "rgO9RdV-GW2l",
        "outputId": "45028d24-4a32-44c7-fdec-89fd50dbfb67"
      },
      "source": [
        "print('*'*30)"
      ],
      "execution_count": null,
      "outputs": [
        {
          "output_type": "stream",
          "name": "stdout",
          "text": [
            "******************************\n"
          ]
        }
      ]
    },
    {
      "cell_type": "code",
      "metadata": {
        "colab": {
          "base_uri": "https://localhost:8080/"
        },
        "id": "ao-QXnNJGdz9",
        "outputId": "b1cc5a96-8053-4a28-9bd8-d089e3a5379d"
      },
      "source": [
        "print('안녕하세요,저는 {0}입니당'.format('정혁'))"
      ],
      "execution_count": null,
      "outputs": [
        {
          "output_type": "stream",
          "name": "stdout",
          "text": [
            "안녕하세요,저는 정혁입니당\n"
          ]
        }
      ]
    },
    {
      "cell_type": "code",
      "metadata": {
        "colab": {
          "base_uri": "https://localhost:8080/"
        },
        "id": "jM3Z8WCNG4E3",
        "outputId": "22b6edbc-6330-4634-fb82-61c1a36c12c0"
      },
      "source": [
        "print('안녕하세요. 저는 {0}이고 나이는 {1}살입니당'.format('정혁',17))"
      ],
      "execution_count": null,
      "outputs": [
        {
          "output_type": "stream",
          "name": "stdout",
          "text": [
            "안녕하세요. 저는 정혁이고 나이는 17살입니당\n"
          ]
        }
      ]
    },
    {
      "cell_type": "code",
      "metadata": {
        "colab": {
          "base_uri": "https://localhost:8080/"
        },
        "id": "D_hNcemlHPR1",
        "outputId": "b4b69131-98fb-45ef-f58d-50ecfdc02be2"
      },
      "source": [
        "name = input('이름:')\n",
        "age = input('나이:')\n",
        "print('{0}({1})'.format(name,age))"
      ],
      "execution_count": null,
      "outputs": [
        {
          "output_type": "stream",
          "name": "stdout",
          "text": [
            "이름:정혁\n",
            "나이:17\n",
            "정혁(17)\n"
          ]
        }
      ]
    },
    {
      "cell_type": "code",
      "metadata": {
        "id": "3hY9BRujJaIs"
      },
      "source": [
        "name = input('이름:')"
      ],
      "execution_count": null,
      "outputs": []
    }
  ]
}