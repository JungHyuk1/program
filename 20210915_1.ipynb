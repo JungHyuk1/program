{
  "nbformat": 4,
  "nbformat_minor": 0,
  "metadata": {
    "colab": {
      "name": "20210915-1.ipynb",
      "provenance": [],
      "authorship_tag": "ABX9TyMswSzdNbVH6DypQUNUXx3D",
      "include_colab_link": true
    },
    "kernelspec": {
      "name": "python3",
      "display_name": "Python 3"
    },
    "language_info": {
      "name": "python"
    }
  },
  "cells": [
    {
      "cell_type": "markdown",
      "metadata": {
        "id": "view-in-github",
        "colab_type": "text"
      },
      "source": [
        "<a href=\"https://colab.research.google.com/github/JungHyuk1/program/blob/main/20210915_1.ipynb\" target=\"_parent\"><img src=\"https://colab.research.google.com/assets/colab-badge.svg\" alt=\"Open In Colab\"/></a>"
      ]
    },
    {
      "cell_type": "code",
      "metadata": {
        "colab": {
          "base_uri": "https://localhost:8080/"
        },
        "id": "WBrW83am62nc",
        "outputId": "45a68704-75dd-4b6c-bc9a-178402297895"
      },
      "source": [
        "def printyang():\n",
        "  print(\"cute yang\")\n",
        "printyang()\n",
        "\n",
        "def hoho(a):\n",
        "  print('hohohohoho')\n",
        "  print(a)\n",
        "\n",
        "hoho(3)"
      ],
      "execution_count": null,
      "outputs": [
        {
          "output_type": "stream",
          "name": "stdout",
          "text": [
            "cute yang\n",
            "hohohohoho\n",
            "3\n"
          ]
        }
      ]
    }
  ]
}