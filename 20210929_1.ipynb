{
  "nbformat": 4,
  "nbformat_minor": 0,
  "metadata": {
    "colab": {
      "name": "20210929-1.ipynb",
      "provenance": [],
      "collapsed_sections": [],
      "authorship_tag": "ABX9TyNhxHVp1dVsHYJz1WwsxkH3",
      "include_colab_link": true
    },
    "kernelspec": {
      "display_name": "Python 3",
      "name": "python3"
    },
    "language_info": {
      "name": "python"
    }
  },
  "cells": [
    {
      "cell_type": "markdown",
      "metadata": {
        "id": "view-in-github",
        "colab_type": "text"
      },
      "source": [
        "<a href=\"https://colab.research.google.com/github/JungHyuk1/program/blob/main/20210929_1.ipynb\" target=\"_parent\"><img src=\"https://colab.research.google.com/assets/colab-badge.svg\" alt=\"Open In Colab\"/></a>"
      ]
    },
    {
      "cell_type": "code",
      "metadata": {
        "colab": {
          "base_uri": "https://localhost:8080/"
        },
        "id": "N3h8bnMQ_e5g",
        "outputId": "07539138-af32-4dde-d31d-7a2723b171fc"
      },
      "source": [
        "import random\n",
        "\n",
        "num = random.randrange(1,100)\n",
        "\n",
        "print(num)"
      ],
      "execution_count": null,
      "outputs": [
        {
          "name": "stdout",
          "output_type": "stream",
          "text": [
            "35\n"
          ]
        }
      ]
    },
    {
      "cell_type": "code",
      "metadata": {
        "colab": {
          "base_uri": "https://localhost:8080/"
        },
        "id": "S5himRkxA6BY",
        "outputId": "65450511-d3b8-4ae8-c1d9-a918f6533cd7"
      },
      "source": [
        "count = 0\n",
        "while count<11:\n",
        "  print(count,end=' ')\n",
        "  count = count + 1"
      ],
      "execution_count": null,
      "outputs": [
        {
          "name": "stdout",
          "output_type": "stream",
          "text": [
            "0 1 2 3 4 5 6 7 8 9 10 "
          ]
        }
      ]
    },
    {
      "cell_type": "code",
      "metadata": {
        "id": "1xrR6Vo8B1yg"
      },
      "source": [
        "import time\n",
        "\n",
        "while True:\n",
        "  print('a',end=' ')\n",
        "  time.sleep(3)"
      ],
      "execution_count": null,
      "outputs": []
    },
    {
      "cell_type": "code",
      "metadata": {
        "colab": {
          "base_uri": "https://localhost:8080/",
          "height": 358
        },
        "id": "z6dbMTChAb0I",
        "outputId": "cb70150f-d4cf-4d51-8abc-bd1b6e5f828b"
      },
      "source": [
        "import random\n",
        "import time\n",
        "my win = 0\n",
        "comwint = 0\n",
        "while True:\n",
        "    num = random.randrange(1,4)#\n",
        "    if num==1:\n",
        "      mywin = mywin+1   \n",
        "    elif  num ==3:\n",
        "        comwin = comwin+1\n",
        "        print('정혁:{0},컴퓨터:{1}'.format(mywin,comwin))\n",
        "        time.sleep(5)"
      ],
      "execution_count": null,
      "outputs": [
        {
          "name": "stdout",
          "output_type": "stream",
          "text": [
            "정혁:0,컴퓨터:1\n",
            "정혁:3,컴퓨터:2\n",
            "정혁:3,컴퓨터:3\n",
            "정혁:4,컴퓨터:4\n",
            "정혁:4,컴퓨터:5\n",
            "정혁:5,컴퓨터:6\n",
            "정혁:10,컴퓨터:7\n",
            "정혁:11,컴퓨터:8\n"
          ]
        },
        {
          "ename": "KeyboardInterrupt",
          "evalue": "ignored",
          "output_type": "error",
          "traceback": [
            "\u001b[0;31m---------------------------------------------------------------------------\u001b[0m",
            "\u001b[0;31mKeyboardInterrupt\u001b[0m                         Traceback (most recent call last)",
            "\u001b[0;32m<ipython-input-57-e88a92f9c2b1>\u001b[0m in \u001b[0;36m<module>\u001b[0;34m()\u001b[0m\n\u001b[1;32m     10\u001b[0m         \u001b[0mcomwin\u001b[0m \u001b[0;34m=\u001b[0m \u001b[0mcomwin\u001b[0m\u001b[0;34m+\u001b[0m\u001b[0;36m1\u001b[0m\u001b[0;34m\u001b[0m\u001b[0;34m\u001b[0m\u001b[0m\n\u001b[1;32m     11\u001b[0m         \u001b[0mprint\u001b[0m\u001b[0;34m(\u001b[0m\u001b[0;34m'정혁:{0},컴퓨터:{1}'\u001b[0m\u001b[0;34m.\u001b[0m\u001b[0mformat\u001b[0m\u001b[0;34m(\u001b[0m\u001b[0mmywin\u001b[0m\u001b[0;34m,\u001b[0m\u001b[0mcomwin\u001b[0m\u001b[0;34m)\u001b[0m\u001b[0;34m)\u001b[0m\u001b[0;34m\u001b[0m\u001b[0;34m\u001b[0m\u001b[0m\n\u001b[0;32m---> 12\u001b[0;31m         \u001b[0mtime\u001b[0m\u001b[0;34m.\u001b[0m\u001b[0msleep\u001b[0m\u001b[0;34m(\u001b[0m\u001b[0;36m5\u001b[0m\u001b[0;34m)\u001b[0m\u001b[0;34m\u001b[0m\u001b[0;34m\u001b[0m\u001b[0m\n\u001b[0m",
            "\u001b[0;31mKeyboardInterrupt\u001b[0m: "
          ]
        }
      ]
    },
    {
      "cell_type": "code",
      "metadata": {
        "colab": {
          "background_save": true,
          "base_uri": "https://localhost:8080/"
        },
        "id": "nZViTGAdF1vH",
        "outputId": "a26f107c-f72b-403d-ce1f-4e0a3296a7f7"
      },
      "source": [
        "import random\n",
        "while True:\n",
        "    print('*'*18)\n",
        "    print('*가위바위보게임*')\n",
        "    print('*'*18)\n",
        "    print('1.가위')\n",
        "    print('2.바위')\n",
        "    print('3.보')\n",
        "    mynum = int(input('입력->'))\n",
        "    comnum = random.randrange(1,4)\n",
        "    \n",
        "    if mynum == comnum:\n",
        "      print('비김')\n",
        "    elif mynum ==1 and comnum ==3:\n",
        "     print('이겼당')\n",
        "    elif mynum ==2 and comnum ==1:\n",
        "     print('이겼당')\n",
        "    elif mynum ==3 and comnum ==2:\n",
        "     print('이겼당')\n",
        "    elif mynum ==1 and comnum ==2:\n",
        "     print('졌당')\n",
        "    elif mynum ==2 and comnum ==3:\n",
        "     print('졌당')\n",
        "    elif mynum ==3 and comnum ==1:\n",
        "     print('졌당') "
      ],
      "execution_count": null,
      "outputs": [
        {
          "name": "stdout",
          "output_type": "stream",
          "text": [
            "******************\n",
            "*가위바위보게임*\n",
            "******************\n",
            "1.가위\n",
            "2.바위\n",
            "3.보\n",
            "이겼당\n",
            "******************\n",
            "*가위바위보게임*\n",
            "******************\n",
            "1.가위\n",
            "2.바위\n",
            "3.보\n",
            "졌당\n",
            "******************\n",
            "*가위바위보게임*\n",
            "******************\n",
            "1.가위\n",
            "2.바위\n",
            "3.보\n",
            "졌당\n",
            "******************\n",
            "*가위바위보게임*\n",
            "******************\n",
            "1.가위\n",
            "2.바위\n",
            "3.보\n",
            "이겼당\n",
            "******************\n",
            "*가위바위보게임*\n",
            "******************\n",
            "1.가위\n",
            "2.바위\n",
            "3.보\n",
            "졌당\n",
            "******************\n",
            "*가위바위보게임*\n",
            "******************\n",
            "1.가위\n",
            "2.바위\n",
            "3.보\n",
            "이겼당\n",
            "******************\n",
            "*가위바위보게임*\n",
            "******************\n",
            "1.가위\n",
            "2.바위\n",
            "3.보\n"
          ]
        }
      ]
    }
  ]
}