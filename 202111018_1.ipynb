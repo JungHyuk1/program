{
  "nbformat": 4,
  "nbformat_minor": 0,
  "metadata": {
    "colab": {
      "name": "202111018-1.ipynb",
      "provenance": [],
      "authorship_tag": "ABX9TyOQUcWMo9nUsADn41YlnQ2h",
      "include_colab_link": true
    },
    "kernelspec": {
      "name": "python3",
      "display_name": "Python 3"
    },
    "language_info": {
      "name": "python"
    }
  },
  "cells": [
    {
      "cell_type": "markdown",
      "metadata": {
        "id": "view-in-github",
        "colab_type": "text"
      },
      "source": [
        "<a href=\"https://colab.research.google.com/github/JungHyuk1/program/blob/main/202111018_1.ipynb\" target=\"_parent\"><img src=\"https://colab.research.google.com/assets/colab-badge.svg\" alt=\"Open In Colab\"/></a>"
      ]
    },
    {
      "cell_type": "code",
      "metadata": {
        "id": "s0N0Pn5rvUKM"
      },
      "source": [
        "def a(i):\n",
        "  return i+1"
      ],
      "execution_count": null,
      "outputs": []
    },
    {
      "cell_type": "code",
      "metadata": {
        "colab": {
          "base_uri": "https://localhost:8080/"
        },
        "id": "pYoxqjPJ1zSw",
        "outputId": "55b01999-7213-4f9b-db53-d5ba214932f1"
      },
      "source": [
        "print(a(6))"
      ],
      "execution_count": null,
      "outputs": [
        {
          "output_type": "stream",
          "name": "stdout",
          "text": [
            "7\n"
          ]
        }
      ]
    },
    {
      "cell_type": "code",
      "metadata": {
        "id": "791Jc-vg2E7n"
      },
      "source": [
        "def solution(age):\n",
        "    if age<19:\n",
        "      return '급식'\n",
        "    else:\n",
        "      return '성인'"
      ],
      "execution_count": null,
      "outputs": []
    },
    {
      "cell_type": "code",
      "metadata": {
        "colab": {
          "base_uri": "https://localhost:8080/"
        },
        "id": "jb3OY4fp2n-C",
        "outputId": "a885fbcf-6070-40d7-cb59-c9e1f3d3e9b7"
      },
      "source": [
        "print(solution(17))"
      ],
      "execution_count": null,
      "outputs": [
        {
          "output_type": "stream",
          "name": "stdout",
          "text": [
            "급식\n"
          ]
        }
      ]
    }
  ]
}