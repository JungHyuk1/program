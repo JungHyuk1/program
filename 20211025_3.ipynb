{
  "nbformat": 4,
  "nbformat_minor": 0,
  "metadata": {
    "colab": {
      "name": "20211025-3.ipynb",
      "provenance": [],
      "authorship_tag": "ABX9TyMScx8OWGSVshp+8hIsRNqA",
      "include_colab_link": true
    },
    "kernelspec": {
      "name": "python3",
      "display_name": "Python 3"
    },
    "language_info": {
      "name": "python"
    }
  },
  "cells": [
    {
      "cell_type": "markdown",
      "metadata": {
        "id": "view-in-github",
        "colab_type": "text"
      },
      "source": [
        "<a href=\"https://colab.research.google.com/github/JungHyuk1/program/blob/main/20211025_3.ipynb\" target=\"_parent\"><img src=\"https://colab.research.google.com/assets/colab-badge.svg\" alt=\"Open In Colab\"/></a>"
      ]
    },
    {
      "cell_type": "code",
      "metadata": {
        "id": "B3U6dM74KhN5"
      },
      "source": [
        "def solution(n): # 피보나치 수열 1 1 2 3 5 8 13 ...\n",
        "    ...."
      ],
      "execution_count": null,
      "outputs": []
    },
    {
      "cell_type": "code",
      "metadata": {
        "id": "0IsKcbgmLkPB"
      },
      "source": [
        "print(solution(10))+"
      ],
      "execution_count": null,
      "outputs": []
    }
  ]
}